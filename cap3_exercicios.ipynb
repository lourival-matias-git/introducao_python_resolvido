{
 "cells": [
  {
   "cell_type": "markdown",
   "metadata": {},
   "source": [
    "# Cap 3 - Variáveis e entrada de dados | Resolução de Exercícios"
   ]
  },
  {
   "cell_type": "markdown",
   "metadata": {},
   "source": [
    "    Cap 3.1 - Nomes de Variáveis\n",
    "    Cap 3.2 - Variáveis Numéricas"
   ]
  },
  {
   "cell_type": "code",
   "execution_count": null,
   "metadata": {},
   "outputs": [],
   "source": [
    "# Exercício 3.1\n",
    "        # pede-se resolução escrita no livro"
   ]
  },
  {
   "cell_type": "markdown",
   "metadata": {},
   "source": [
    "    Cap 3.3 - Variáveis do tipo Lógico"
   ]
  },
  {
   "cell_type": "code",
   "execution_count": null,
   "metadata": {},
   "outputs": [],
   "source": [
    "# Exercício 3.2\n",
    "        # pede-se resolução escrita no livro"
   ]
  },
  {
   "cell_type": "code",
   "execution_count": null,
   "metadata": {},
   "outputs": [],
   "source": [
    "# Exercício 3.3\n",
    "        # pede-se resolução escrita no livro"
   ]
  },
  {
   "cell_type": "code",
   "execution_count": null,
   "metadata": {},
   "outputs": [],
   "source": [
    "# Exercício 3.4\n",
    "    # Escreva uma expressão para determinar se uma pessoa deve ou não pagar\n",
    "    # imposto. Considere que pagam imposto pessoas cujo salário seja maior\n",
    "    # que R$ 1200,00.\n",
    "salario = 1400\n",
    "imposto = 1200\n",
    "resultado = salario > imposto\n",
    "print(resultado)"
   ]
  },
  {
   "cell_type": "code",
   "execution_count": null,
   "metadata": {},
   "outputs": [],
   "source": [
    "# Exercício 3.5\n",
    "    # pede-se resolução escrita no livro"
   ]
  },
  {
   "cell_type": "code",
   "execution_count": null,
   "metadata": {},
   "outputs": [],
   "source": [
    "# Exercício 3.6\n",
    "    # Escreve uma expressão que será utilizada para decidir se um aluno foi \n",
    "    # aprovado ou não aprovado. Para ser aprovado, todas as médias do aluno\n",
    "    # devem ser maiores que 7. Considere que o aluno cursa apenas três matérias,\n",
    "    # e que a nota de cada uma está armazenada nas seguintes variáveis:\n",
    "    # materia1, materia2, materia3.\n",
    "materia1 = 8\n",
    "materia2 = 7\n",
    "materia3 = 9\n",
    "nota = 7\n",
    "resultado = materia1 > nota and materia2 > nota and materia3 > nota\n",
    "print(resultado)"
   ]
  },
  {
   "cell_type": "markdown",
   "metadata": {},
   "source": [
    "    Cap 3.4 - Variáveis String\n",
    "    Cap 3.5 - Sequências e Tempo \n",
    "    Cap 3.6 - Rastreamento\n",
    "    Cap 3.7 - Entrada de Dados"
   ]
  },
  {
   "cell_type": "code",
   "execution_count": null,
   "metadata": {},
   "outputs": [],
   "source": [
    "# Exercício 3.7\n",
    "    # Faça um programa que peça dois números inteiros. Imprima a soma desses \n",
    "    # dois números na tela.\n",
    "a = int(input(\"Insira o Primeiro número: \"))\n",
    "b = int(input(\"Insira o Segundo número: \"))\n",
    "res = a + b\n",
    "print(f\"A soma dos dois números é: {res}\")"
   ]
  },
  {
   "cell_type": "code",
   "execution_count": null,
   "metadata": {},
   "outputs": [],
   "source": [
    "# Exercício 3.8\n",
    "    # Escreva um programa que leia um valor em metros e o exiba convertido \n",
    "    # em milímetros.\n",
    "a = float(input(\"Insira a quantidade de metros: \"))\n",
    "res = a * 1000\n",
    "print(f\"A medida convertida em milimetros é: {res:.3f}\")"
   ]
  },
  {
   "cell_type": "code",
   "execution_count": null,
   "metadata": {},
   "outputs": [],
   "source": [
    "# Exercício 3.9\n",
    "    # Escreva um programa que leia a quantidade de dias, horas, minutos \n",
    "    # e segundos do usuário. Calcule o total em segundos.\n",
    "dias = int(input(\"Quantos dias de acesso: \"))\n",
    "horas = int(input(\"Quantos horas de acesso: \"))\n",
    "minutos = int(input(\"Quantos minutos de acesso: \"))\n",
    "segundos = int(input(\"Quantos segundos de acesso: \"))\n",
    "\n",
    "# utilizando variáveis suporte para os cálculos\n",
    "segundos_dias = dias * 24 * 60 * 60\n",
    "segundos_horas = horas * 60 * 60\n",
    "segundos_minutos = minutos * 60\n",
    "\n",
    "segundos_totais = segundos_dias + segundos_horas + segundos_minutos + segundos\n",
    "\n",
    "print(f\"A quantidade total de acesso medido em segundos é: {segundos_totais} segundos\")"
   ]
  },
  {
   "cell_type": "code",
   "execution_count": null,
   "metadata": {},
   "outputs": [],
   "source": [
    "# Exercício 3.10\n",
    "    # Faça um programa que calcule o aumento de um salário. Ele deve solicitar\n",
    "    # o valor do salário e a porcentagem do aumento. Exiba o valor do aumento e\n",
    "    # do novo salário.\n",
    "salario = float(input(\"Insira seu salário: \"))\n",
    "porcentagem = float(input(\"Qual a porcentagem de aumento: \"))\n",
    "\n",
    "# utilizando variáveis suporte para os cálculos\n",
    "aumento = salario * porcentagem/100\n",
    "salario_final = aumento + salario\n",
    "\n",
    "print(f\"Para um aumento de {porcentagem:.1f}% teremos adicionais: R$ {aumento:.2f}\")\n",
    "print(f\"Seu salário final será: R$ {salario_final:.2f}\")"
   ]
  },
  {
   "cell_type": "code",
   "execution_count": null,
   "metadata": {},
   "outputs": [],
   "source": [
    "# Exercício 3.11\n",
    "    # Faça um programa que solicite o preço de uma mercadoria e o percentual\n",
    "    # de desconto. Exiba o valor do desconto e o preço a pagar.\n",
    "preco = float(input(\"Qual o preço do produto: \"))\n",
    "desconto = float(input(\"Qual o percentual de desconto: \"))\n",
    "\n",
    "# utilizando variáveis suporte para os cálculos\n",
    "desconto_preco = preço * desconto / 100\n",
    "preco_final = preco - desconto_preco\n",
    "\n",
    "print(f\"O desconto do produto foi de: - R$ {desconto_preco:.2f}\")\n",
    "print(f\"O valor final a ser pago é: R$ {preco_final:.2f}\")"
   ]
  },
  {
   "cell_type": "code",
   "execution_count": null,
   "metadata": {},
   "outputs": [],
   "source": [
    "# Exercício 3.12\n",
    "    # Escreva um programa que calcule o tempo de uma viagem de carro. Pergunte \n",
    "    # a distância a percorrer e a velocidade média esperada para a viagem.\n",
    "distancia = float(input(\"Qual a distância a ser percorrida em kilômetros: \"))\n",
    "velocidade = float(input(\"Qual a velocidade média estimada em km/hora: \"))\n",
    "\n",
    "tempo = distancia/velocidade\n",
    "\n",
    "print(f\"O tempo de viagem estimado será: {tempo:.1f} horas\")"
   ]
  },
  {
   "cell_type": "code",
   "execution_count": null,
   "metadata": {},
   "outputs": [],
   "source": [
    "# Exercício 3.13\n",
    "    # Escreva um programa que converta uma temperatura digitada em °C em °F.\n",
    "temperatura_c = float(input(\"Qual a temperatura em °C: \"))\n",
    "temperatura_f = ((9*temperatura_c)/5) + 32\n",
    "print(f\"A temperatura em fahrenheit é: {temperatura_f:.1f}°F\")"
   ]
  },
  {
   "cell_type": "code",
   "execution_count": null,
   "metadata": {},
   "outputs": [],
   "source": [
    "# Exercício 3.14\n",
    "    # Escreva um programa que pergunte a quantidade de km percorridos por um\n",
    "    # carro alugado pelo usuário, assim como a quantidade de dias pelos quais \n",
    "    # o carro foi alugado. Calcule o preço a pagar, sabendo que o carro custa\n",
    "    # R$60 por dia e R$0,15 por km rodado.\n",
    "km = float(input(\"Qual a quantidade de Kilômetros percorridos: \"))\n",
    "dias = int(input(\"Qual a quantidade de com o veículo: \"))\n",
    "\n",
    "preco = (km * 0.15) + (dias * 60)\n",
    "\n",
    "print(f\"O total a ser pago será: R$ {preco:2.f}\")"
   ]
  },
  {
   "cell_type": "code",
   "execution_count": null,
   "metadata": {},
   "outputs": [],
   "source": [
    "# Exercício 3.15\n",
    "    # Escreva um programa para calcular a redução do tempo de vida de um\n",
    "    # fumante. Pergunte a quantidade de cigarros fumados por dia e quantos\n",
    "    # anos ele já fumou. Considere que um fumante perde 10 minutos de vida \n",
    "    # a cada cigarro, e calcule quantos dias de vida um fumante perderá.\n",
    "    # Exiba o total de dias.\n",
    "cigarros = int(input(\"Quantos cigarros você fuma por dia: \"))\n",
    "anos = int(input(\"Você fuma a quantos anos: \"))\n",
    "total_cigarros = 365 * anos * cigarros\n",
    "reducao = total_cigarros * 10 / (60*24)\n",
    "print(f\"O total da redução de vida para esse fumante é: {reducao:.0f} dias\")"
   ]
  }
 ],
 "metadata": {
  "kernelspec": {
   "display_name": "base",
   "language": "python",
   "name": "python3"
  },
  "language_info": {
   "codemirror_mode": {
    "name": "ipython",
    "version": 3
   },
   "file_extension": ".py",
   "mimetype": "text/x-python",
   "name": "python",
   "nbconvert_exporter": "python",
   "pygments_lexer": "ipython3",
   "version": "3.11.7"
  }
 },
 "nbformat": 4,
 "nbformat_minor": 2
}
