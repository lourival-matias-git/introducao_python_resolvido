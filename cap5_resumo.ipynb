{
 "cells": [
  {
   "cell_type": "markdown",
   "metadata": {},
   "source": [
    "# Capítulo 5: Repetições\n",
    "\n",
    "São utilizadas para executar a mesma parte de um programa várias vezes, normalmente dependendo de uma condição."
   ]
  },
  {
   "cell_type": "markdown",
   "metadata": {},
   "source": [
    "## while\n",
    "É uma estrutura de repetição que repete um bloco enquanto a condição for verdadeira"
   ]
  },
  {
   "cell_type": "code",
   "execution_count": null,
   "metadata": {},
   "outputs": [],
   "source": [
    "# Exemplo 1 \n",
    "    # Print um número 3 vezes mas a cada loop some 1\n",
    "x = 1\n",
    "while x <= 3:\n",
    "    print(x)\n",
    "    x = x + 1"
   ]
  },
  {
   "cell_type": "markdown",
   "metadata": {},
   "source": [
    "# Cap 5.1 - Contadores"
   ]
  },
  {
   "cell_type": "code",
   "execution_count": null,
   "metadata": {},
   "outputs": [],
   "source": [
    "# Exemplo 2\n",
    "    # O último número a ser impresso deve ser digitado pelo usuário\n",
    "fim = int(input(\"Digite o último número a imprimir: \"))\n",
    "x = 1\n",
    "\n",
    "while x <= fim:\n",
    "    print(x)\n",
    "    x = x + 1"
   ]
  },
  {
   "cell_type": "code",
   "execution_count": null,
   "metadata": {},
   "outputs": [],
   "source": [
    "# Exemplo 3\n",
    "    # Imprimir na tela todos os números pares entre 0 e o último número\n",
    "    # estabelecido pelo usuário\n",
    "fim = int(input(\"Digite o último número a imprimir: \"))\n",
    "x = 0\n",
    "\n",
    "while x <= fim:\n",
    "    if x % 2 == 0:\n",
    "        print(x)\n",
    "    x = x + 1"
   ]
  },
  {
   "cell_type": "code",
   "execution_count": null,
   "metadata": {},
   "outputs": [],
   "source": [
    "# Exemplo 4\n",
    "    # Outra forma de resolver o exemplo 3\n",
    "fim = int(input(\"Digite o último número a imprimir: \"))\n",
    "x = 0\n",
    "\n",
    "while x <= fim:\n",
    "    print(x)\n",
    "    x = x + 2"
   ]
  },
  {
   "cell_type": "code",
   "execution_count": null,
   "metadata": {},
   "outputs": [],
   "source": [
    "# Exemplo 5\n",
    "    # Imprimir a tabuada de adição de um número digitado pelo usuário\n",
    "n = int(input(\"Tabuada de: \"))\n",
    "x = 1\n",
    "\n",
    "while x <= 10:\n",
    "    print(n+x)\n",
    "    x = x + 1\n"
   ]
  },
  {
   "cell_type": "code",
   "execution_count": null,
   "metadata": {},
   "outputs": [],
   "source": [
    "# Exemplo 6\n",
    "    # Respostas de um teste de múltiplas escolhas e sucessiva soma de pontos\n",
    "pontos = 0\n",
    "questao = 1\n",
    "\n",
    "while questao <= 3:\n",
    "    resposta = input(f\"Resposta da questão {questao}: \")\n",
    "    if questao == 1 and resposta == \"b\":\n",
    "        pontos = pontos + 1\n",
    "    if questao == 2 and resposta == \"a\":\n",
    "        pontos = pontos + 1\n",
    "    if questao == 3 and resposta == \"d\":\n",
    "        pontos = pontos + 1\n",
    "    questao = questao + 1\n",
    "print(f\"O aluno fez {pontos} ponto(s)\")"
   ]
  },
  {
   "cell_type": "markdown",
   "metadata": {},
   "source": [
    "# Cap 5.2 - Acumuladores\n",
    "\n",
    "Em programas para calcular o total de uma soma, por exemplo, precisaremos de acumuladores. A diferença entre um contador  e um acumulador é que nos contadores o valor adicionado é constante e, nos acumuladores, é variável."
   ]
  },
  {
   "cell_type": "code",
   "execution_count": null,
   "metadata": {},
   "outputs": [],
   "source": [
    "# Exemplo 7\n",
    "    # Programa que calcula a soma de 10 números\n",
    "n = 1\n",
    "soma = 0\n",
    "while n <= 10:\n",
    "    x = int(input(f\"Digite o {n} número:\"))\n",
    "    soma = soma + x\n",
    "    n = n + 1\n",
    "print(f\"Soma: {soma}\")"
   ]
  },
  {
   "cell_type": "code",
   "execution_count": null,
   "metadata": {},
   "outputs": [],
   "source": [
    "# Exemplo 8\n",
    "    # Calcular a média de 5 números inseridos pelo usuário \n",
    "n = 1\n",
    "soma = 0\n",
    "while n <= 5:\n",
    "    x = int(input(f\"Digite o {n} número:\"))\n",
    "    soma = soma + x\n",
    "    n = n + 1\n",
    "print(f\"Média: {soma/5:.2f}\")"
   ]
  },
  {
   "cell_type": "markdown",
   "metadata": {},
   "source": [
    "# Cap 5.3 - Interrompendo a repetição\n",
    "\n",
    "Embora muito útil, a estrutura 'while' só verifica sua condição de parada no início de cada repetição. Dependendo do problema, a habilidade de terminar o 'while' dentro do bloco a repetir pode ser interessante.\n",
    "\n",
    "A instrução 'break' é utilizada para interromper a execução de 'while' independente do valor atual de sua condição."
   ]
  },
  {
   "cell_type": "code",
   "execution_count": null,
   "metadata": {},
   "outputs": [],
   "source": [
    "# Exemplo 9 \n",
    "    # Somar números até digitar 0\n",
    "s = 0\n",
    "while True:\n",
    "    v = int(input(\"Digite um número a somar ou 0 para sair: \"))\n",
    "    if v == 0:\n",
    "        break\n",
    "    s += v\n",
    "print(s)"
   ]
  },
  {
   "cell_type": "code",
   "execution_count": 4,
   "metadata": {},
   "outputs": [
    {
     "name": "stdout",
     "output_type": "stream",
     "text": [
      "0 cédula(s) de R$50\n"
     ]
    }
   ],
   "source": [
    "# Exemplo 10 (Programa 5.1 - Contagem de Cédulas)\n",
    "    # Vejamos um programa qu eleia um valor e que imprima a quantidade de\n",
    "    # cédulas necessárias para pagar esse mesmo valor. Para simplificar, vamos \n",
    "    # trabalhar apenas com valores inteiros e com cédulas de R$ 50, R$ 20,R$ 10,\n",
    "    # R$ 5 e R$ 1.\n",
    "valor = int(input(\"Digite o valor a pagar: \"))\n",
    "cedulas = 0\n",
    "atual = 50\n",
    "apagar = valor\n",
    "while True:\n",
    "    if atual <= apagar:\n",
    "        apagar -= atual\n",
    "        cedulas += 1\n",
    "    else:\n",
    "        print(f\"{cedulas} cédula(s) de R${atual}\")\n",
    "        if apagar == 0:\n",
    "            break\n",
    "        if atual == 50:\n",
    "            atual = 20\n",
    "        elif atual == 20:\n",
    "            atual = 10\n",
    "        elif atual == 10:\n",
    "            atual = 5\n",
    "        elif atual == 5:\n",
    "            atual = 1\n",
    "        cedulas = 0"
   ]
  },
  {
   "cell_type": "markdown",
   "metadata": {},
   "source": [
    "# Cap 5.4 - Repetições Aninhadas\n",
    "\n",
    "Podemos combinar vários 'while' de forma a obter resultado mais interessantes, como a repetição com incremento de duas variáveis."
   ]
  },
  {
   "cell_type": "code",
   "execution_count": null,
   "metadata": {},
   "outputs": [],
   "source": [
    "# Exemplo 11\n",
    "    # Imagine imprimir as tabuadas de multiplicação de 1 a 10.\n",
    "tabuada = 1\n",
    "while tabuada <= 10:\n",
    "    numero = 1\n",
    "    while numero <= 10:\n",
    "        print(f\"{tabuada} x {numero} = {tabuada * numero}\")\n",
    "        numero += 1\n",
    "    tabuada += 1"
   ]
  }
 ],
 "metadata": {
  "kernelspec": {
   "display_name": "base",
   "language": "python",
   "name": "python3"
  },
  "language_info": {
   "codemirror_mode": {
    "name": "ipython",
    "version": 3
   },
   "file_extension": ".py",
   "mimetype": "text/x-python",
   "name": "python",
   "nbconvert_exporter": "python",
   "pygments_lexer": "ipython3",
   "version": "3.11.7"
  }
 },
 "nbformat": 4,
 "nbformat_minor": 2
}
