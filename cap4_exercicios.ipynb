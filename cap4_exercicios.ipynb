{
 "cells": [
  {
   "cell_type": "markdown",
   "metadata": {},
   "source": [
    "# Cap 4 - Condições | Resolução de Exercícios"
   ]
  },
  {
   "cell_type": "markdown",
   "metadata": {},
   "source": [
    "    Cap 4.1 - if"
   ]
  },
  {
   "cell_type": "code",
   "execution_count": null,
   "metadata": {},
   "outputs": [],
   "source": [
    "# Exercício 4.1\n",
    "        # pede-se resolução escrita no livro"
   ]
  },
  {
   "cell_type": "code",
   "execution_count": 2,
   "metadata": {},
   "outputs": [
    {
     "name": "stdout",
     "output_type": "stream",
     "text": [
      "Você não foi multado!\n"
     ]
    }
   ],
   "source": [
    "# Exercício 4.2\n",
    "    # Escreva um programa que pergunte a velocidade do carro de um usuário.\n",
    "    # Caso ultrapasse 80 km/h, exiba uma mensagem dizendo que o usuário foi\n",
    "    # multado. Nesse caso, exiba o valor da multa, cobrando R$ 5 por km acima\n",
    "    # de 80 km/h.\n",
    "velocidade = int(input(\"Qual a velocidade do seu carro: \"))\n",
    "limite = 80\n",
    "multa = (velocidade - limite) * 5\n",
    "if velocidade > limite:\n",
    "    print(\"Você foi multado!\")\n",
    "    print(f\"O valor da multa é R$ {multa:.2f}\")\n",
    "if velocidade <= limite:\n",
    "    print(\"Você não foi multado!\")"
   ]
  },
  {
   "cell_type": "code",
   "execution_count": null,
   "metadata": {},
   "outputs": [],
   "source": [
    "# Exercício 4.3\n",
    "    # Escreva um programa que leia três números e que exprima o maior e o menor\n",
    "n1 = float(input(\"Digite o primeiro número: \"))\n",
    "n2 = float(input(\"Digite o segundo número: \"))\n",
    "n3 = float(input(\"Digite o terceiro número: \"))\n",
    "\n",
    "if n1 >= n2 and n2 >= n3:\n",
    "    print(f\"O maior número é o {n1} e o menor número é o {n3}\")\n",
    "if n1 >= n3 and n3 >= n2:\n",
    "    print(f\"O maior número é o {n1} e o menor número é o {n2}\")\n",
    "if n2 >= n1 and n1 >= n3:\n",
    "    print(f\"O maior número é o {n2} e o menor número é o {n3}\")\n",
    "if n2 >= n1 and n3 >= n1:\n",
    "    print(f\"O maior número é o {n2} e o menor número é o {n1}\")\n",
    "if n3 >= n2 and n2 >= n1:\n",
    "    print(f\"O maior número é o {n3} e o menor número é o {n1}\")\n",
    "if n3 >= n2 and n1 >= n2:\n",
    "    print(f\"O maior número é o {n3} e o menor número é o {n2}\")"
   ]
  },
  {
   "cell_type": "code",
   "execution_count": 3,
   "metadata": {},
   "outputs": [
    {
     "name": "stdout",
     "output_type": "stream",
     "text": [
      "O valor do seu aumento será de R$ 185.00\n"
     ]
    }
   ],
   "source": [
    "# Exercício 4.4\n",
    "    # Escreva um programa que pergunte o salário do funcinário e calcule o valor\n",
    "    # do aumento. Para salários superiores a R$ 1250,00, calcule um aumento de\n",
    "    # 10%. Para os inferiores ou iguais, de 15%.\n",
    "salario = float(input(\"Qual o salário do funcionário: \"))\n",
    "base = 1250.00\n",
    "if salario > base:\n",
    "    aumento = salario * 0.10\n",
    "    print(f\"O valor do seu aumento será de R$ {aumento:.2f}\")\n",
    "if salario <= base:\n",
    "    aumento = salario * 0.15\n",
    "    print(f\"O valor do seu aumento será de R$ {aumento:.2f}\")"
   ]
  },
  {
   "cell_type": "markdown",
   "metadata": {},
   "source": [
    "    Cap 4.2 - else"
   ]
  },
  {
   "cell_type": "code",
   "execution_count": null,
   "metadata": {},
   "outputs": [],
   "source": [
    "# Exercício 4.5\n",
    "    # pede-se resolução escrita no livro"
   ]
  },
  {
   "cell_type": "code",
   "execution_count": 4,
   "metadata": {},
   "outputs": [
    {
     "name": "stdout",
     "output_type": "stream",
     "text": [
      "O preço de sua viagem é: R$ 99.00\n"
     ]
    }
   ],
   "source": [
    "# Exercício 4.6\n",
    "    # Escreva um programa que pergunte a distância que um passageiro deseja\n",
    "    # percorrer em km. Calcule o preço da passagem, cobrando R$ 0,50 por km\n",
    "    # para viagens de até 200 km, e R$ 0,45 para viagens mais longas.\n",
    "distancia = int(input(\"Qual a distância que deseja percorrer, em km: \"))\n",
    "if distancia > 200:\n",
    "    preco = distancia * 0.45\n",
    "    print(f\"O preço de sua viagem é: R$ {preco:.2f}\")\n",
    "else:\n",
    "    preco = distancia * 0.50\n",
    "    print(f\"O preço de sua viagem é: R$ {preco:.2f}\")"
   ]
  }
 ],
 "metadata": {
  "kernelspec": {
   "display_name": "base",
   "language": "python",
   "name": "python3"
  },
  "language_info": {
   "codemirror_mode": {
    "name": "ipython",
    "version": 3
   },
   "file_extension": ".py",
   "mimetype": "text/x-python",
   "name": "python",
   "nbconvert_exporter": "python",
   "pygments_lexer": "ipython3",
   "version": "3.11.7"
  }
 },
 "nbformat": 4,
 "nbformat_minor": 2
}
