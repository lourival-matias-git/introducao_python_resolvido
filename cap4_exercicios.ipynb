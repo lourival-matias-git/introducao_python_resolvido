{
 "cells": [
  {
   "cell_type": "markdown",
   "metadata": {},
   "source": [
    "# Cap 4 - Condições | Resolução de Exercícios"
   ]
  },
  {
   "cell_type": "markdown",
   "metadata": {},
   "source": [
    "# Cap 4.1 - if"
   ]
  },
  {
   "cell_type": "code",
   "execution_count": null,
   "metadata": {},
   "outputs": [],
   "source": [
    "# Exercício 4.1\n",
    "        # pede-se resolução escrita no livro"
   ]
  },
  {
   "cell_type": "code",
   "execution_count": null,
   "metadata": {},
   "outputs": [],
   "source": [
    "# Exercício 4.2\n",
    "    # Escreva um programa que pergunte a velocidade do carro de um usuário.\n",
    "    # Caso ultrapasse 80 km/h, exiba uma mensagem dizendo que o usuário foi\n",
    "    # multado. Nesse caso, exiba o valor da multa, cobrando R$ 5 por km acima\n",
    "    # de 80 km/h.\n",
    "velocidade = int(input(\"Qual a velocidade do seu carro: \"))\n",
    "limite = 80\n",
    "multa = (velocidade - limite) * 5\n",
    "if velocidade > limite:\n",
    "    print(\"Você foi multado!\")\n",
    "    print(f\"O valor da multa é R$ {multa:.2f}\")\n",
    "if velocidade <= limite:\n",
    "    print(\"Você não foi multado!\")"
   ]
  },
  {
   "cell_type": "code",
   "execution_count": null,
   "metadata": {},
   "outputs": [],
   "source": [
    "# Exercício 4.3\n",
    "    # Escreva um programa que leia três números e que exprima o maior e o menor\n",
    "n1 = float(input(\"Digite o primeiro número: \"))\n",
    "n2 = float(input(\"Digite o segundo número: \"))\n",
    "n3 = float(input(\"Digite o terceiro número: \"))\n",
    "\n",
    "if n1 >= n2 and n2 >= n3:\n",
    "    print(f\"O maior número é o {n1} e o menor número é o {n3}\")\n",
    "if n1 >= n3 and n3 >= n2:\n",
    "    print(f\"O maior número é o {n1} e o menor número é o {n2}\")\n",
    "if n2 >= n1 and n1 >= n3:\n",
    "    print(f\"O maior número é o {n2} e o menor número é o {n3}\")\n",
    "if n2 >= n1 and n3 >= n1:\n",
    "    print(f\"O maior número é o {n2} e o menor número é o {n1}\")\n",
    "if n3 >= n2 and n2 >= n1:\n",
    "    print(f\"O maior número é o {n3} e o menor número é o {n1}\")\n",
    "if n3 >= n2 and n1 >= n2:\n",
    "    print(f\"O maior número é o {n3} e o menor número é o {n2}\")"
   ]
  },
  {
   "cell_type": "code",
   "execution_count": null,
   "metadata": {},
   "outputs": [],
   "source": [
    "# Exercício 4.4\n",
    "    # Escreva um programa que pergunte o salário do funcinário e calcule o valor\n",
    "    # do aumento. Para salários superiores a R$ 1250,00, calcule um aumento de\n",
    "    # 10%. Para os inferiores ou iguais, de 15%.\n",
    "salario = float(input(\"Qual o salário do funcionário: \"))\n",
    "base = 1250.00\n",
    "if salario > base:\n",
    "    aumento = salario * 0.10\n",
    "    print(f\"O valor do seu aumento será de R$ {aumento:.2f}\")\n",
    "if salario <= base:\n",
    "    aumento = salario * 0.15\n",
    "    print(f\"O valor do seu aumento será de R$ {aumento:.2f}\")"
   ]
  },
  {
   "cell_type": "markdown",
   "metadata": {},
   "source": [
    "# Cap 4.2 - else"
   ]
  },
  {
   "cell_type": "code",
   "execution_count": null,
   "metadata": {},
   "outputs": [],
   "source": [
    "# Exercício 4.5\n",
    "    # pede-se resolução escrita no livro"
   ]
  },
  {
   "cell_type": "code",
   "execution_count": null,
   "metadata": {},
   "outputs": [],
   "source": [
    "# Exercício 4.6\n",
    "    # Escreva um programa que pergunte a distância que um passageiro deseja\n",
    "    # percorrer em km. Calcule o preço da passagem, cobrando R$ 0,50 por km\n",
    "    # para viagens de até 200 km, e R$ 0,45 para viagens mais longas.\n",
    "distancia = int(input(\"Qual a distância que deseja percorrer, em km: \"))\n",
    "if distancia > 200:\n",
    "    preco = distancia * 0.45\n",
    "    print(f\"O preço de sua viagem é: R$ {preco:.2f}\")\n",
    "else:\n",
    "    preco = distancia * 0.50\n",
    "    print(f\"O preço de sua viagem é: R$ {preco:.2f}\")"
   ]
  },
  {
   "cell_type": "code",
   "execution_count": null,
   "metadata": {},
   "outputs": [],
   "source": [
    "# Exercício 4.7\n",
    "    # pede-se resolução escrita no livro"
   ]
  },
  {
   "cell_type": "code",
   "execution_count": null,
   "metadata": {},
   "outputs": [],
   "source": [
    "# Exercício 4.8\n",
    "    # Escreva o programa que leia dois números e que pergunte qual operação\n",
    "    # você deseja realizar. Você deve poder calcular soma(+), subtração(-),\n",
    "    # multiplicação(*) e divisão(/). Exiba o resultado da operação solicitada.\n",
    "a = float(input('Escreva um número: '))\n",
    "b = float(input('Escreva outro número: '))\n",
    "operacao = input('Qual operação deseja realizar(mult, adi, sub ou div)? ')\n",
    "\n",
    "if operacao == 'mult':\n",
    "    resultado = a*b\n",
    "elif operacao == 'adi':\n",
    "    resultado = a+b\n",
    "elif operacao == 'sub':\n",
    "    resultado = a-b\n",
    "elif operacao == 'div':\n",
    "    if b == 0:\n",
    "        print('Impossível dividir um número por 0')\n",
    "        resultado = 0\n",
    "    else:\n",
    "        resultado = a/b\n",
    "else :\n",
    "    print('Operação inexistente, escola entre as seguintes opções: mult, adi, sub ou div.')\n",
    "    resultado = 0\n",
    "print(f'O resultado da sua operação é {resultado:.2f}')"
   ]
  },
  {
   "cell_type": "code",
   "execution_count": null,
   "metadata": {},
   "outputs": [],
   "source": [
    "# Exercício 4.9\n",
    "    # Escreva um programa para aprovar o empréstimo bancário para a compra\n",
    "    # de uma casa. O programa deve perguntar o valor da casa a comprar, o salário\n",
    "    # e a quantidade de anoa a pagar. O valor da prestação mensal não pode ser\n",
    "    # superior a 30% do salário. Calcule o valor da prestação como sendo o valor\n",
    "    # da casa a comprar dividido pelo número de meses a pagar.\n",
    "valor = float(input('Qual o valor da casa a ser financiada? '))\n",
    "anos = int(input('Em quanto tempo planeja pagar a casa(em anos)? '))\n",
    "salario = float(input('Qual o seu salário mensal ? '))\n",
    "\n",
    "parcela = salario*0.3\n",
    "\n",
    "if anos == 0:\n",
    "    print('Impossível financiar a casa em 0 anos')\n",
    "elif parcela < valor/(anos*12):\n",
    "    print('O seu salário é incompatível com a prestação do imóvel. Refaça a simulação!')\n",
    "else:\n",
    "    prestacao = valor/(anos*12)\n",
    "    print(f'O valor da prestação na simulação deste imóvel será: R${prestacao:.2f}')"
   ]
  },
  {
   "cell_type": "code",
   "execution_count": null,
   "metadata": {},
   "outputs": [],
   "source": [
    "# Exercício 4.10\n",
    "    # Escreva um programa que calcule o preço a pagar pelo fornecimento de energia\n",
    "    # elétrica. Pergunte a quantidade de kWh consumida e o tipo de instalação:\n",
    "    # R para residências, I para indústrias e C para comércios.\n",
    "consumo = float(input('Qual foi seu consumo de energia em kWh? '))\n",
    "tipo = input('Qual o tipo de instalação a qual a rede é destinada?\\nEscreva R para Residência, I para Indústria ou C para Comércio  ')\n",
    "\n",
    "if tipo == 'R' :\n",
    "    if consumo <= 500 :\n",
    "        preco = consumo * 0.40\n",
    "    else :\n",
    "        preco = consumo * 0.65\n",
    "if tipo == 'C' :\n",
    "    if consumo <= 1000 :\n",
    "        preco = consumo * 0.55\n",
    "    else :\n",
    "        preco = consumo * 0.60\n",
    "if tipo == 'I' :\n",
    "    if consumo <= 5000 :\n",
    "        preco = consumo * 0.55\n",
    "    else :\n",
    "        preco = consumo * 0.60\n",
    "else :\n",
    "    print('Tipo de instalação inexistente, digite um dos tipos válidos (R, C ou I)!')\n",
    "    preco = 0\n",
    "print(f'O valor da sua conta de energia é: R$ {preco:.2f}')"
   ]
  }
 ],
 "metadata": {
  "kernelspec": {
   "display_name": "base",
   "language": "python",
   "name": "python3"
  },
  "language_info": {
   "codemirror_mode": {
    "name": "ipython",
    "version": 3
   },
   "file_extension": ".py",
   "mimetype": "text/x-python",
   "name": "python",
   "nbconvert_exporter": "python",
   "pygments_lexer": "ipython3",
   "version": "3.11.7"
  }
 },
 "nbformat": 4,
 "nbformat_minor": 2
}
