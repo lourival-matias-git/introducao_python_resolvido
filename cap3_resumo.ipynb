{
 "cells": [
  {
   "cell_type": "markdown",
   "metadata": {},
   "source": [
    "# Capítulo 3: Variáveis e entrada de dados"
   ]
  },
  {
   "cell_type": "markdown",
   "metadata": {},
   "source": [
    "# 3.1 - Nomes de Variáveis\n",
    "\n",
    "Em Python, nomes de variáveis devem iniciar obrigatoriamente com uma letra\n",
    "ou com o símbolo de sublinha (_).\n",
    "\n",
    "Após o primeiro caractere, podem conter letras, números e o sublinha.\n",
    "\n",
    "Os nomes de variáveis devem estar com todos os caracteres unidos, não podem\n",
    "possuir espaços vazios entre eles."
   ]
  },
  {
   "cell_type": "code",
   "execution_count": null,
   "metadata": {},
   "outputs": [],
   "source": [
    "# Exemplo de variáveis com nomes válidos\n",
    "variavel1 = 1\n",
    "var_1 = 2\n",
    "_var_1 = 3\n",
    "# Exemplos de variáveis com nomes inválidos\n",
    "1variavel = 1\n",
    "varia vel = 2\n",
    "variavel@dois = 3"
   ]
  },
  {
   "cell_type": "markdown",
   "metadata": {},
   "source": [
    "Tipos de propriedades das Variáveis.\n",
    "\n",
    "Além de nome e conteúdo, uma variável também possui 'tipo'. Os mais comuns\n",
    "são números inteiros(integer), os números de ponto flutuante(float) e as strings."
   ]
  },
  {
   "cell_type": "markdown",
   "metadata": {},
   "source": [
    "# 3.2 - Variáveis Numéricas\n",
    "\n",
    "Dizemos que uma variável é numérica quando armazena números inteiros ou de\n",
    "ponto flutuante.\n",
    "\n",
    "Em Python, e na maioria das linguagens, utilizamos o ponto(.) como separador\n",
    "da parte inteira e fracionária de um número."
   ]
  },
  {
   "cell_type": "code",
   "execution_count": null,
   "metadata": {},
   "outputs": [],
   "source": [
    "# Exemplo de variável que assume um número inteiro\n",
    "var1 = 75\n",
    "# Exemplo de variável que assume um número de ponto flutuante\n",
    "var2 = 7.5"
   ]
  },
  {
   "cell_type": "markdown",
   "metadata": {},
   "source": [
    "# 3.3 - Variáveis de tipo Lógico\n",
    "\n",
    "Muitas vezes queremos armazenar um conteúdo simples: verdadeiro ou falso em uma variável.\n",
    "\n",
    "Nesse caso utilizaremos uma variável do tipo lógico ou booleano."
   ]
  },
  {
   "cell_type": "code",
   "execution_count": null,
   "metadata": {},
   "outputs": [],
   "source": [
    "# Exemplo de variável booleana\n",
    "resultado = True\n",
    "reprovado = False"
   ]
  },
  {
   "cell_type": "markdown",
   "metadata": {},
   "source": [
    "# 3.3.1 - Operadores Relacionais\n",
    "\n",
    "Para realizarmos as comparações lógicas, utilizaremos os 'operadores relacionais'.\n",
    "\n",
    "O resultado de uma comparação com esses operadores é um valor do tipo lógico(True ou False)."
   ]
  },
  {
   "cell_type": "code",
   "execution_count": null,
   "metadata": {},
   "outputs": [],
   "source": [
    "# Lista de operadores relacionais e suas funções\n",
    "a=1\n",
    "b=5\n",
    "c=2\n",
    "d=1\n",
    "\n",
    "# igualdade(==), é utilizada para verificar se uma variável é igual a outra.\n",
    "a == b\n",
    "# maior que(>), é utilizado para verificar se a variável da esquerda é maior do que a da esquerda.\n",
    "b > a\n",
    "# menor que(<), é utilizado para verificar se a variável da esquerda é menor do que a da esquerda.\n",
    "b < a\n",
    "# diferente(!=), é utilizada para verificar se uma variável é diferente da outra.\n",
    "c != d\n",
    "# maior igual(>=), é utilizada para averiguar se uma variável é maior ou igual a outra.\n",
    "c >= b\n",
    "# menor igual(<=), é utilizada para averiguar se uma variável é menor ou igual a outra.\n",
    "d <= b"
   ]
  },
  {
   "cell_type": "markdown",
   "metadata": {},
   "source": [
    "Não esqueça que o 'ou' nas operações 'maior ou igual' e 'menor ou igual' funciona de forma aditiva. Desse modo, considerando tanto a operação de grandeza quanto a de igualdade como verdadeiras.\n",
    "\n",
    "Exemplo: 5 >= 5\n",
    "> True\n",
    "\n",
    "Variáveis do tipo Lógico também podem ser utilizadas para armazenar o resultado de expressões e comparações."
   ]
  },
  {
   "cell_type": "code",
   "execution_count": null,
   "metadata": {},
   "outputs": [],
   "source": [
    "# Exemplo de como armazenar comparações em variáveis booleanas.\n",
    "nota = 8 # insere o valor da sua nota\n",
    "media = 7 # insere o valor da media padrão\n",
    "aprovado = nota >= media # insere em uma variável booleana a comparação\n",
    "print(aprovado) # imprime o resultado da variável aprovado(True ou False)"
   ]
  },
  {
   "cell_type": "markdown",
   "metadata": {},
   "source": [
    "# 3.3.2 - Operadores Lógicos\n",
    "\n",
    "Para agrupar operações com lógica booleana, utilizaremos \"operadores lógicos\".\n",
    "\n",
    "Python suporta 3 operadores básicos: not(não), and(e) e or(ou)."
   ]
  },
  {
   "cell_type": "code",
   "execution_count": null,
   "metadata": {},
   "outputs": [],
   "source": [
    "# Operador 'not'\n",
    "# É o operador mais simples pois precisa de apenas um operando(unário)\n",
    "# Sua função será negar o operando(ver tabela verdade do operador 'not')\n",
    "V1 = True \n",
    "resultado = not V1\n",
    "print(resultado)"
   ]
  },
  {
   "cell_type": "code",
   "execution_count": null,
   "metadata": {},
   "outputs": [],
   "source": [
    "# Operador 'and'\n",
    "# Necessita de 2 operandos(ver tabela verdade do operador 'and')\n",
    "# Só retornará o resultado 'verdade' se os 2 operandos forem verdadeiros\n",
    "V1 = True\n",
    "V2 = False\n",
    "resultado = V1 and V2\n",
    "print(resultado)"
   ]
  },
  {
   "cell_type": "code",
   "execution_count": null,
   "metadata": {},
   "outputs": [],
   "source": [
    "# Operador 'or'\n",
    "# Também necessita de 2 operandos(ver tabela verdade do operador 'or')\n",
    "# Só retornará o resultado 'falso' se os dois operandos foram falsos\n",
    "V1 = False\n",
    "V2 = True\n",
    "resultado = V1 or V2\n",
    "print(resultado)"
   ]
  },
  {
   "cell_type": "markdown",
   "metadata": {},
   "source": [
    "# Cap 3.4 - Variáveis String\n",
    "\n",
    "Variáveis do tipo 'String' armazenam cadeias de caracteres como nomes e textos em geral.\n",
    "\n",
    "Para possibilitar a separação entre o texto do seu programa e o conteúdo de uma string, utilizaremos as aspas(\") para delimitar o início e o fim da sequência de caracteres.\n",
    "\n",
    "O tamanho de uma string pode ser obtido utilizando-se a função 'len'."
   ]
  },
  {
   "cell_type": "code",
   "execution_count": null,
   "metadata": {},
   "outputs": [],
   "source": [
    "# Função 'len'\n",
    "a = len(\"ABCD\")\n",
    "b = len(\"AB CD\")\n",
    "print(a)\n",
    "print(b)"
   ]
  },
  {
   "cell_type": "markdown",
   "metadata": {},
   "source": [
    "Para acessar os caracteres de uma string, devemos informar o índice ou posição do caractere entre colchetes([]).\n",
    "\n",
    "Sempre que eu quiser acessar um caractere 'n' de uma string, eu chamo aquela variável seguida por colchetes e insiro o valor de n-1 dentro dos colchetes. Pois a indexação do Python começa no 0."
   ]
  },
  {
   "cell_type": "code",
   "execution_count": null,
   "metadata": {},
   "outputs": [],
   "source": [
    "# Acessando o caractere de uma string\n",
    "a = \"ABCDEF\"\n",
    "a1 = a[0]\n",
    "a3 = a[2]\n",
    "a4 = a[3]"
   ]
  },
  {
   "cell_type": "markdown",
   "metadata": {},
   "source": [
    "# Cap 3.4.1 - Operações com Strings\n",
    "\n",
    "As variáveis do tipo string suportam operações como 'fatiamento', 'concatenação', e 'composição'."
   ]
  },
  {
   "cell_type": "markdown",
   "metadata": {},
   "source": [
    " # Concatenação\n",
    "Para concatenar duas strings utilizaremos o operador de adição (+)"
   ]
  },
  {
   "cell_type": "code",
   "execution_count": null,
   "metadata": {},
   "outputs": [],
   "source": [
    "a = \"ABCD\"\n",
    "b = \"EF\"\n",
    "s = a + b\n",
    "print(s)"
   ]
  },
  {
   "cell_type": "markdown",
   "metadata": {},
   "source": [
    "# Composição\n",
    "A composição de strings é um pouco mais complexa que a concatenação visto que ela tem que usar um mecanismo chamado 'marcador'.\n",
    "\n",
    "Assim, quando eu quiser inserir o valor de uma variável dentro de uma string, basta eu utilizar um 'marcador', representado por (%).\n",
    "\n",
    "Marcadores vão definir que naquela posição específica será inserida uma variável."
   ]
  },
  {
   "cell_type": "code",
   "execution_count": null,
   "metadata": {},
   "outputs": [],
   "source": [
    "# Quando eu quiser unir a idade de uma pessoa no meio de uma mensagem\n",
    "idade = 52\n",
    "resultado = \"João tem %d anos\" % idade\n",
    "print(resultado)"
   ]
  },
  {
   "cell_type": "markdown",
   "metadata": {},
   "source": [
    "Tipos de marcadores:\n",
    "\n",
    "%d - Números inteiros\n",
    "\n",
    "%s - Strings\n",
    "\n",
    "%f - Números decimais"
   ]
  },
  {
   "cell_type": "code",
   "execution_count": null,
   "metadata": {},
   "outputs": [],
   "source": [
    "# Formatação de números inteiros\n",
    "idade = 22\n",
    "    # Se eu quero que apareça apenas o número inserido\n",
    "a = \"[%d]\" % idade\n",
    "print(a)\n",
    "    # Se eu quero um número de 4 dígitos, basta colocar o número de dígitos\n",
    "    # preteridos entre o símbolo de '%' e o 'd'\n",
    "b = \"[%4d]\" % idade\n",
    "print(b)\n",
    "    # Se eu quero que sejam inseridos zeros a esquerda para completar os \n",
    "    # 4 dígitos, basta colocar o zero a esquerda do número 4\n",
    "c = \"[%04d]\" % idade\n",
    "print(c)"
   ]
  },
  {
   "cell_type": "code",
   "execution_count": null,
   "metadata": {},
   "outputs": [],
   "source": [
    "# Formatação de números decimais\n",
    "    # Poderemos utilizar dois valores entre o símbolo de % e a letra f.\n",
    "    # O primeiro é o número de caracteres a reservar, e o segundo, o número de\n",
    "    # de casas decimais.\n",
    "\n",
    "    # Assim, %5.2f diz que estaremos imprimindo um número decimal utilizando\n",
    "    # cinco posições, sendo que duas delas são para a parte decimal.\n",
    "a = 7\n",
    "b = \"[%f]\" % a\n",
    "print(b)\n",
    "c = \"[%5.2f]\" % a\n",
    "print(c)\n",
    "d = \"[%.3f]\" % a\n",
    "print(d)\n",
    "e = \"[%10.5f]\" % a\n",
    "print(e)"
   ]
  },
  {
   "cell_type": "code",
   "execution_count": null,
   "metadata": {},
   "outputs": [],
   "source": [
    "# Composição de vários valores\n",
    "nome = \"Lourival\"\n",
    "idade = 25\n",
    "dinheiro = 100\n",
    "resultado = \"%s tem %d anos de idade e R$ %.2f no bolso!\" % (nome,idade,dinheiro)\n",
    "print(resultado)\n",
    "\n",
    "# Porém uma forma mais moderna de compor strings é utilizando o método 'format'\n",
    "resultado = \"{} tem {} anos de idade e R$ {:.2f} no bolso!\".format(nome,idade,dinheiro)\n",
    "print(resultado)"
   ]
  },
  {
   "cell_type": "markdown",
   "metadata": {},
   "source": [
    "# Fatiamento\n",
    "\n",
    "O Fatiamento é muito poderoso para a redução de uma string.\n",
    "\n",
    "Para fatiarmos uma string basta selecionar os índices da variável separados por ':'.\n",
    "\n",
    "Exemplo: \n",
    "s = \"ABCDE\"\n",
    "\n",
    "s[0:2] -> AB\n",
    "\n",
    "s[1:2] -> B\n",
    "\n",
    "O número à esquerda dos dois pontos determina o caractere de início do fatiamento, o número à direita determina o final. Contudo, o último caractere indexado não aparece. Note que o \"C\" não faz parte do resultado em nenhum dos exemplos acima, pois o fatiamento diz que o último caractere será o anterior a ele."
   ]
  },
  {
   "cell_type": "code",
   "execution_count": null,
   "metadata": {},
   "outputs": [],
   "source": [
    "# Exemplos de Fatiamento\n",
    "s = \"LOURIVAL\"\n",
    "# Fatiamento simples\n",
    "s1 = s[0:4]\n",
    "print(s1)\n",
    "# Fatiamento 'negativo', retira apenas os caracteres finais da string\n",
    "s2 = s[-2:]\n",
    "print(s2)\n",
    "# Fatiamento apenas do último caractere da string\n",
    "s3 = s[:-1]\n",
    "print(s3)"
   ]
  },
  {
   "cell_type": "markdown",
   "metadata": {},
   "source": [
    "# Cap 3.5 - Sequências e tempo\n",
    "\n",
    "Devemos lembrar que o conteúdo de uma variável pode mudar com o tempo. Cada vez que alteramos o valor de uma variável, o valor anterior é substituído pelo novo."
   ]
  },
  {
   "cell_type": "code",
   "execution_count": null,
   "metadata": {},
   "outputs": [],
   "source": [
    "# Exemplo de Sequ6encia e tempo\n",
    "divida = 0 # 1\n",
    "compra = 100 # 2\n",
    "divida = divida + compra # 3\n",
    "compra = 200 # 4\n",
    "divida = divida + compra # 5\n",
    "compra = 300 # 6\n",
    "divida = divida + compra # 7\n",
    "compra = 0 # 8\n",
    "print(divida) # 9"
   ]
  },
  {
   "cell_type": "markdown",
   "metadata": {},
   "source": [
    "Note que em cada uma das linhas acima nossas variáveis mudam de valor e entender e seguir esse valor durante todo o código é essencial para entender como a variável se comporta."
   ]
  },
  {
   "cell_type": "markdown",
   "metadata": {},
   "source": [
    "# Cap 3.6 - Rastreamento\n",
    "\n",
    "Uma das principais diferenças entre ler um texto e um programa é justamente seguir as mudanças de valores de cada variável conforme o programa é executado.\n",
    "\n",
    "Um programa não pode ser lido como um simples texto, mas cuidadosamente analisado linha por linha. Você deve ser capaz de entender o que cada linha de um programa significa e os efeitos que produz.\n",
    "\n",
    "Processo de Rastreamento:\n",
    "\n",
    "Para rastrear um programa, utilize lápis, borracha e uma folha de papel.\n",
    "\n",
    "Escreva o nome de suas variáveis na folha de papel, como se fossem títulos de colunas, deixando espaço para ser preenchido embaixo desses nomes.\n",
    "\n",
    "Leia uma linha do programa de cada vez e escreva o valor atribuído a cada variável na folha, na mesma coluna que escreveu o nome da variável.\n",
    "\n",
    "PS: no início você achará esse método meio bobo, mas ele é bem eficaz para entender a lógica por traz de cada linha."
   ]
  },
  {
   "cell_type": "markdown",
   "metadata": {},
   "source": [
    "# Cap 3.7 - Entrada de dados\n",
    "\n",
    "Chamamos de entrada de dados o momento em que seu programa recebe dados ou valores por um dispositivo de entrada de dados(teclado por exemplo) ou de arquivo em disco.\n",
    "\n",
    "A função 'input' é utilizada para solicitar dados do usuário. "
   ]
  },
  {
   "cell_type": "code",
   "execution_count": null,
   "metadata": {},
   "outputs": [],
   "source": [
    "# Inserindo dados através da função 'input'\n",
    "x = input(\"Digite um número: \")\n",
    "print(x)\n",
    "# Se estiver usando o vs code, a janela de digitação aparecerá na barra \n",
    "# de pesquisa superior. Assim, basta digitar o que se pede e apertar 'enter'."
   ]
  },
  {
   "cell_type": "code",
   "execution_count": 4,
   "metadata": {},
   "outputs": [
    {
     "name": "stdout",
     "output_type": "stream",
     "text": [
      "Você digitou lourival\n",
      "Olá, lourival\n"
     ]
    }
   ],
   "source": [
    "# Outro exemplo\n",
    "nome = input(\"Digite seu nome: \")\n",
    "print(f\"Você digitou {nome}\")\n",
    "print(f\"Olá, {nome}\")"
   ]
  },
  {
   "cell_type": "markdown",
   "metadata": {},
   "source": [
    "# Conversão da entrada de dados.\n",
    "\n",
    "A função 'input' sempre retorna valores do tipo string, ou seja, não importa se digitamos apenas números, o resultado sempre é string.\n",
    "\n",
    "Para resolver esse problema, iremos utilizar as funções de conversão abaixo:\n",
    "\n",
    "Para números inteiros utilizamos 'int'.\n",
    "\n",
    "Para número decimais utilizamos 'float'."
   ]
  },
  {
   "cell_type": "code",
   "execution_count": 6,
   "metadata": {},
   "outputs": [
    {
     "name": "stdout",
     "output_type": "stream",
     "text": [
      "Bônus de R$ 1200.00\n"
     ]
    }
   ],
   "source": [
    "# Exemplo no qual devemos calcular o bônus por tempo de serviço\n",
    "anos = int(input(\"Anos de serviço: \"))\n",
    "valor_por_ano = float(input(\"Valor por ano: \"))\n",
    "bonus = anos * valor_por_ano\n",
    "print(f\"Bônus de R$ {bonus:.2f}\")"
   ]
  }
 ],
 "metadata": {
  "kernelspec": {
   "display_name": "base",
   "language": "python",
   "name": "python3"
  },
  "language_info": {
   "codemirror_mode": {
    "name": "ipython",
    "version": 3
   },
   "file_extension": ".py",
   "mimetype": "text/x-python",
   "name": "python",
   "nbconvert_exporter": "python",
   "pygments_lexer": "ipython3",
   "version": "3.11.7"
  }
 },
 "nbformat": 4,
 "nbformat_minor": 2
}
