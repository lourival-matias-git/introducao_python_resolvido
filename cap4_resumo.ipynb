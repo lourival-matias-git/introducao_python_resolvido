{
 "cells": [
  {
   "cell_type": "markdown",
   "metadata": {},
   "source": [
    "# Capítulo 4: Condições\n",
    "\n",
    "# Cap 4.1 - if\n",
    "\n",
    "As 'condições' servem para selecionar quando uma parte do programa deve ser executada e quando deve ser simplesmente ignorada.\n",
    "\n",
    "Em Python, a estrutura de decisão é o 'if'. O 'if' nada mais é que o nosso 'se'.\n",
    "\n",
    "Podemos entender o 'if' da seguinte forma: se a condição for verdadeira, faça algo."
   ]
  },
  {
   "cell_type": "code",
   "execution_count": null,
   "metadata": {},
   "outputs": [],
   "source": [
    "# Exemplo 1 - Ler 2 números e imprimir qual o maior\n",
    "a = int(input(\"Primeiro valor: \"))\n",
    "b = int(input(\"Segundo valor: \"))\n",
    "if a > b:\n",
    "    print(\"O primeiro valor é maior!\")\n",
    "if b > a:\n",
    "    print(\"O segundo valor é maior!\")"
   ]
  },
  {
   "cell_type": "code",
   "execution_count": null,
   "metadata": {},
   "outputs": [],
   "source": [
    "# Exemplo 2 - Carro velho(>3anos) e novo(<=3) dependendo da idade\n",
    "idade = int(input(\"Qual a idade do seu carro: \"))\n",
    "if idade <= 3:\n",
    "    print(\"Seu carro é novo!\")\n",
    "if idade > 3:\n",
    "    print(\"Seu carro é velho!\")"
   ]
  },
  {
   "cell_type": "code",
   "execution_count": null,
   "metadata": {},
   "outputs": [],
   "source": [
    "# Exemplo 3 - Cálculo do imposto de renda\n",
    "salario = float(input(\"Digite o salário para cálculo do imposto: \"))\n",
    "base = salario\n",
    "imposto = 0\n",
    "if base > 3000:\n",
    "    imposto = imposto + ((base - 3000) * 0.35)\n",
    "    base = 3000\n",
    "if base > 1000:\n",
    "    imposto = imposto + ((base - 1000) * 0.20)\n",
    "print(f\"Salário: R$ {salario:.2f} \\nImposto a pagar: R$ {imposto:.2f}\")"
   ]
  },
  {
   "cell_type": "markdown",
   "metadata": {},
   "source": [
    "# Cap 4.2 - else\n",
    "\n",
    "Quando há problemas, como a mensagem do carro velho(Exemplo 2), na qual a segunda condição é simplesmente o inverso da primeira, podemos usar outra forma de 'if' para simplificar os programas. \n",
    "\n",
    "Essa forma é a cláusula 'else'."
   ]
  },
  {
   "cell_type": "code",
   "execution_count": null,
   "metadata": {},
   "outputs": [],
   "source": [
    "# Exemplo 4 - Carro novo ou velho, dependendo da idade com 'else'\n",
    "idade = int(input(\"Qual a idade do seu carro: \"))\n",
    "if idade <= 3:\n",
    "    print(\"Seu carro é novo!\")\n",
    "else:\n",
    "    print(\"Seu carro é velho!\")"
   ]
  },
  {
   "cell_type": "markdown",
   "metadata": {},
   "source": [
    "É importante notar que devemos escrever 'else' na mesma coluna do 'if', ou seja, com o mesmo recuo. Assim, o interpretador reconhece qual 'else' pertence a cada 'if'."
   ]
  },
  {
   "cell_type": "markdown",
   "metadata": {},
   "source": [
    "# Cap 4.3 - Estruturas aninhadas\n",
    "\n",
    "Nem sempre nossos programas serão tão simples. Muitas vezes, precisaremos aninhar vários 'if' para obter o comportamento desejado do programa. Aninhar, nesse caso, é utilizar um 'if' dentro do outro.\n",
    "\n",
    "Lembre-se que o alinhamento do texto é muito importante em Python."
   ]
  },
  {
   "cell_type": "code",
   "execution_count": null,
   "metadata": {},
   "outputs": [],
   "source": [
    "# Exemplo 5 - Conta de telefone com 3 faixas de preço\n",
    "minutos = int(input(\"Quantos minutos foram utilizados esse mês: \"))\n",
    "if minutos < 200:\n",
    "    preco = 0.20\n",
    "else:\n",
    "    if minutos < 400:\n",
    "        preco = 0.18\n",
    "    else:\n",
    "        preco = 0.15\n",
    "print(f\"Você vai pagar este mês: R$ {minutos * preco:.2f}\")"
   ]
  },
  {
   "cell_type": "code",
   "execution_count": null,
   "metadata": {},
   "outputs": [],
   "source": [
    "# Exemplo 6 - Categoria x preço\n",
    "categoria = int(input(\"Digite a categoria do produto\"))\n",
    "if categoria == 1:\n",
    "    preco = 10\n",
    "else:\n",
    "    if categoria == 2:\n",
    "        preco = 18\n",
    "    else:\n",
    "        if categoria == 3:\n",
    "            preco = 23\n",
    "        else:\n",
    "            if categoria == 4:\n",
    "                preco = 26\n",
    "            else:\n",
    "                if categoria == 5:\n",
    "                    preco = 31\n",
    "                else:\n",
    "                    print(\"Categoria inválida, digite um valor entre 1 e 5!\")\n",
    "                    preco = 0\n",
    "print(f\"O preço do produto é: R$ {preco:.2f}\")"
   ]
  },
  {
   "cell_type": "markdown",
   "metadata": {},
   "source": [
    "# Cap 4.4 - elif\n",
    "\n",
    "Para evitar múltiplos 'ifs' aninhados, o python possui a cláusula 'elif' ela substitui um par else if, mas sem criar outro nível de estrutura"
   ]
  },
  {
   "cell_type": "code",
   "execution_count": null,
   "metadata": {},
   "outputs": [],
   "source": [
    "# Exemplo 7 - Categoria x preço, usando o elif\n",
    "categoria = int(input('Digite a categoria do produto: '))\n",
    "if categoria == 1 :\n",
    "    preco = 10\n",
    "elif categoria == 2 :\n",
    "    preco = 18\n",
    "elif categoria == 3 :\n",
    "    preco = 23\n",
    "elif categoria == 4 :\n",
    "    preco = 26\n",
    "elif categoria == 5 :\n",
    "    preco = 31\n",
    "else :\n",
    "    print('Categoria inexistente, digite um valor de 1 a 5!')\n",
    "    preco = 0 \n",
    "print(f'O preço do produto é: R${preco:.2f}')"
   ]
  }
 ],
 "metadata": {
  "kernelspec": {
   "display_name": "base",
   "language": "python",
   "name": "python3"
  },
  "language_info": {
   "codemirror_mode": {
    "name": "ipython",
    "version": 3
   },
   "file_extension": ".py",
   "mimetype": "text/x-python",
   "name": "python",
   "nbconvert_exporter": "python",
   "pygments_lexer": "ipython3",
   "version": "3.11.7"
  }
 },
 "nbformat": 4,
 "nbformat_minor": 2
}
