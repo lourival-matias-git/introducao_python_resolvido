{
 "cells": [
  {
   "cell_type": "markdown",
   "metadata": {},
   "source": [
    "# Cap 5 - Repetições | Resolução de Exercícios"
   ]
  },
  {
   "cell_type": "code",
   "execution_count": null,
   "metadata": {},
   "outputs": [],
   "source": [
    "# Exercício 5.1\n",
    "    # Modififique o exemplo 1 para exibir os númeors de 1 a 100\n",
    "x = 1\n",
    "while x <= 100:\n",
    "    print(x)\n",
    "    x = x + 1"
   ]
  },
  {
   "cell_type": "code",
   "execution_count": null,
   "metadata": {},
   "outputs": [],
   "source": [
    "# Exercício 5.2\n",
    "    # Modififique o exemplo 1 para exibir os númeors de 50 a 100\n",
    "x = 50\n",
    "while x <= 100:\n",
    "    print(x)\n",
    "    x = x + 1"
   ]
  },
  {
   "cell_type": "code",
   "execution_count": null,
   "metadata": {},
   "outputs": [],
   "source": [
    "# Exercício 5.3\n",
    "    # Faça um programa para escrever a contagem regressiva do lançamento de \n",
    "    # um foguete. O programa deve imprimir 10, 9, 8, ..., 1, 0 e Fogo! na tela.\n",
    "x = 10\n",
    "while x >= 0:\n",
    "    print(x)\n",
    "    x = x - 1\n",
    "print(\"Fogo!\")"
   ]
  },
  {
   "cell_type": "markdown",
   "metadata": {},
   "source": [
    "        Cap 5.1 - Contadores"
   ]
  },
  {
   "cell_type": "code",
   "execution_count": null,
   "metadata": {},
   "outputs": [],
   "source": [
    "# Exercício 5.4\n",
    "    # Modifique o exemplo 4 para imprimir de 1 até o número digitado pelo\n",
    "    # usuário, mas, dessa vez, apenas os números ímpares.\n",
    "fim = int(input(\"Digite o último número a imprimir: \"))\n",
    "x = 1\n",
    "\n",
    "while x <= fim:\n",
    "    print(x)\n",
    "    x = x + 2"
   ]
  },
  {
   "cell_type": "code",
   "execution_count": null,
   "metadata": {},
   "outputs": [],
   "source": [
    "# Exercício 5.5\n",
    "    # Modifique o exercício 5.4 para escrever os 10 primeiros múltiplos de 3.\n",
    "x = 1\n",
    "\n",
    "while x <= 10*3:\n",
    "    if x % 3 == 0:\n",
    "        print(x)\n",
    "    x = x + 1"
   ]
  },
  {
   "cell_type": "code",
   "execution_count": null,
   "metadata": {},
   "outputs": [],
   "source": [
    "# Exercício 5.6\n",
    "    # Altere o exemplo 5 para exibir os resultados no mesmo formato de uma \n",
    "    # tabuada: 2x1=2, 2x2=4, ...\n",
    "n = int(input(\"Tabuada de: \"))\n",
    "x = 1\n",
    "\n",
    "while x <= 10:\n",
    "    print(f\"{n:.0f} x {x:.0f} = {n*x:.0f}\")\n",
    "    x = x + 1"
   ]
  },
  {
   "cell_type": "code",
   "execution_count": null,
   "metadata": {},
   "outputs": [],
   "source": [
    "# Exercício 5.7\n",
    "    # Modifique o exercíco 5.6 de forma que o usuário também digite o início \n",
    "    # e o fim da tabuada, em vez de começar com 1 e 10.\n",
    "\n",
    "n = int(input(\"Tabuada de: \"))\n",
    "i = int(input(\"Digite o início desejado da tabuada: \"))\n",
    "f = int(input(\"Digite o fim desejado da tabuada: \"))\n",
    "x = i\n",
    "if i > f:\n",
    "    print(\"O início é maior que o fim, selecione novamente os valores!\")\n",
    "else:\n",
    "    while x <= f:\n",
    "        print(f\"{n:.0f} x {x:.0f} = {n*x:.0f}\")\n",
    "        x = x + 1"
   ]
  },
  {
   "cell_type": "code",
   "execution_count": null,
   "metadata": {},
   "outputs": [],
   "source": [
    "# Exercício 5.8\n",
    "    # Escreva um programa que leia dois números. Imprima o resultado da \n",
    "    # multiplicação do primeiro pelo segundo. Utilize apenas operadores de soma\n",
    "    # e subtração para calcular o resultado.\n",
    "n1 = int(input(\"Digite o primeiro número: \"))\n",
    "n2 = int(input(\"Digite o segundo número: \"))\n",
    "x = 1\n",
    "a = n1\n",
    "\n",
    "while x < n2:\n",
    "    n1 = n1 + a\n",
    "    x = x + 1\n",
    "\n",
    "print(n1)"
   ]
  },
  {
   "cell_type": "code",
   "execution_count": null,
   "metadata": {},
   "outputs": [],
   "source": [
    "# Exercício 5.9\n",
    "    # Escreva um programa que leia dois números. Imprima a divisão inteira do\n",
    "    #  primeiro pelo segundo, assim como o resto da divisão. Utilize apenas \n",
    "    # operadores de soma e subtração para calcular o resultado.\n",
    "n1 = int(input(\"Digite o primeiro número: \"))\n",
    "n2 = int(input(\"Digite o segundo número: \"))\n",
    "x = 0\n",
    "\n",
    "if n1 < n2:\n",
    "    x = 0\n",
    "    n1 = n1\n",
    "    print(\"Para realizar uma operação melhor, é necessário que o primeiro número seja maior que o segundo!\\nPorém, segue resposta abaixo:\")\n",
    "else:\n",
    "    while n1 >= n2:\n",
    "        n1 = n1 - n2\n",
    "        x = x + 1\n",
    "\n",
    "print(f\"A parte interia da divisão é {x:.0f} e o resto é {n1:.0f}\")"
   ]
  },
  {
   "cell_type": "code",
   "execution_count": null,
   "metadata": {},
   "outputs": [],
   "source": [
    "# Exercício 5.10\n",
    "    # Modifique o exemplo 6 para que aceite respostas com letras maiúsculas ou\n",
    "    # minúsculas em todas as questões.\n",
    "pontos = 0\n",
    "questao = 1\n",
    "\n",
    "while questao <= 3:\n",
    "    resposta = input(f\"Resposta da questão {questao}: \")\n",
    "    if questao == 1 and resposta == \"b\" or resposta == \"B\":\n",
    "        pontos = pontos + 1\n",
    "    if questao == 2 and resposta == \"a\" or resposta == \"A\":\n",
    "        pontos = pontos + 1\n",
    "    if questao == 3 and resposta == \"d\" or resposta == \"D\":\n",
    "        pontos = pontos + 1\n",
    "    questao = questao + 1\n",
    "print(f\"O aluno fez {pontos} ponto(s)\")"
   ]
  },
  {
   "cell_type": "markdown",
   "metadata": {},
   "source": [
    "    Cap 5.2 - Acumuladores"
   ]
  },
  {
   "cell_type": "code",
   "execution_count": null,
   "metadata": {},
   "outputs": [],
   "source": [
    "# Exercício 5.11\n",
    "    # Escreva um programa que pergunte o depósito inicial e a taxa de juros de\n",
    "    # uma poupança. Exiba os valores mês a mês para os 24 primeiros meses.\n",
    "    # Escreva o total ganho com juros no período.\n",
    "x = int(input(f\"Digite o valor do depósito inicial: \"))\n",
    "xi = x\n",
    "juros = float(input(f\"Digite a taxa de juros da poupança(em %): \"))\n",
    "j = juros/100\n",
    "n = 1\n",
    "\n",
    "while n <= 24:\n",
    "    x = x + (x*j)\n",
    "    print(f\"O valor na poupança, no mês {n}, é: {x:.2f}\")\n",
    "    n = n + 1\n",
    "print(f\"O valor acumulado de juros é: {x-xi:.2f}\")"
   ]
  },
  {
   "cell_type": "code",
   "execution_count": null,
   "metadata": {},
   "outputs": [],
   "source": [
    "# Exercício 5.12\n",
    "    # Altere o programa anterior de forma a perguntar também o valor depositado\n",
    "    # mensalmente. Esse valor será depositado no início de cada mês, e você deve\n",
    "    # considerá-lo para o cálculo de juros do mês seguinte.\n",
    "x = int(input(f\"Digite o valor do depósito inicial: \"))\n",
    "xi = x\n",
    "juros = float(input(f\"Digite a taxa de juros da poupança(em %): \"))\n",
    "j = juros/100\n",
    "n = 1\n",
    "y = int(input(f\"Digite o valor a ser depositado nesse mês({n}) :\"))\n",
    "while n <= 24:\n",
    "    xi = xi + y\n",
    "    x = (x) + ((x) * j) + y\n",
    "    print(f\"O valor na poupança, no mês {n}, é: {x:.2f}\")\n",
    "    n = n + 1\n",
    "print(f\"O valor acumulado de juros é: {x-xi:.2f}\")"
   ]
  },
  {
   "cell_type": "code",
   "execution_count": null,
   "metadata": {},
   "outputs": [],
   "source": [
    "# Exercício 5.13\n",
    "    # Escreva um programa que pergunte o valor inicial de uma dívida e o juro\n",
    "    # mensal. Pergunte também o valor mensal que será pago. Imprima o número de\n",
    "    # meses para que a dívida seja paga, o total pago e o total de juros pago.\n",
    "divida = float(input(\"Digite o valor da sua dívida: \"))\n",
    "juros = float(input(\"Digite o juros mensal da sua dívida: \"))\n",
    "parcela = float(input(\"Qual o valor mensal que você planeja pagar: \"))\n",
    "\n",
    "juros = juros/100\n",
    "di = divida\n",
    "\n",
    "n = 1\n",
    "\n",
    "if parcela < (divida*juros):\n",
    "    print(\"Impossível pagar a dívida com esse valor de parcela, refaça a simulação\")\n",
    "    total_pago = 0\n",
    "    di = 0\n",
    "    n = 0\n",
    "else:\n",
    "    while divida >= parcela:\n",
    "        divida = divida + (divida * juros)\n",
    "        divida = divida - parcela\n",
    "        n = n + 1\n",
    "\n",
    "total_pago = parcela * n\n",
    "\n",
    "print(f\"O total de meses até a dívida ser paga será de {n}\")\n",
    "print(f\"O total pago será R$ {total_pago:.2f}\")\n",
    "print(f\"O total pago em juros foi R$ {total_pago - di:.2f}\")\n",
    "\n",
    "# Este código não está perfeito, possíveis alterações de variáveis e valores\n",
    "# são recomendadas."
   ]
  },
  {
   "cell_type": "code",
   "execution_count": null,
   "metadata": {},
   "outputs": [],
   "source": [
    "# Exercício 5.14\n",
    "    # Escreva um programa que leia números inteiros do teclado. O programa deve\n",
    "    # ler os números até que o usuário digite 0 (zero). No final da execução, \n",
    "    # exiba a quantidade de números digitados assim como a soma e a média aritmética\n",
    "s = 0\n",
    "n = 0\n",
    "while True:\n",
    "    v = int(input(\"Digite um número a somar ou 0 para sair: \"))\n",
    "    if v == 0:\n",
    "        break\n",
    "    s += v\n",
    "    n += 1\n",
    "print(f\"A quantidade de números digitados foi {n}\")\n",
    "print(f\"A soma dos valores inseridos foi {s}\")\n",
    "print(f\"A média dos valores inseridos foi {s/n:.2f}\")"
   ]
  },
  {
   "cell_type": "code",
   "execution_count": null,
   "metadata": {},
   "outputs": [],
   "source": [
    "# Exercício 5.15\n",
    "    # Escreva um programa para controlar uma pequena máquina registradora. Você\n",
    "    # deve solicitar ao usuário que digite o código do produto e a quantidade\n",
    "    # comprada. Utilize a tabela de códigos a seguir para obter o preço de cada\n",
    "    # produto.\n",
    "        #   Código      Preço\n",
    "        #    1           0,50\n",
    "        #    2           1,00\n",
    "        #    3           4,00\n",
    "        #    5           7,00\n",
    "        #    9           8,00\n",
    "    # Seu programa deve exibir o total das compras depois que o usuário digitar 0.\n",
    "    # Qualquer outro código deve gerar a mensagem de erro \"Código inválido\".\n",
    "codigo = 1\n",
    "total_final = 0\n",
    "while codigo != 0:\n",
    "    codigo = int(input(\"Qual o código do produto (digite 0 ao finalizar): \"))\n",
    "    if codigo == 1:\n",
    "        preco = 0.5\n",
    "        quantidade = int(input(\"Qual a quantidade desse produto: \"))\n",
    "        total = preco * quantidade\n",
    "    elif codigo == 2:\n",
    "        preco = 1.0\n",
    "        quantidade = int(input(\"Qual a quantidade desse produto: \"))\n",
    "        total = preco * quantidade\n",
    "    elif codigo == 3:\n",
    "        preco = 4.0\n",
    "        quantidade = int(input(\"Qual a quantidade desse produto: \"))\n",
    "        total = preco * quantidade\n",
    "    elif codigo == 5:\n",
    "        preco = 7.0\n",
    "        quantidade = int(input(\"Qual a quantidade desse produto: \"))\n",
    "        total = preco * quantidade\n",
    "    elif codigo == 9:\n",
    "        preco = 8.0\n",
    "        quantidade = int(input(\"Qual a quantidade desse produto: \"))\n",
    "        total = preco * quantidade\n",
    "    elif codigo == 0:\n",
    "        break\n",
    "    else:\n",
    "        print(\"Código inválido!\")\n",
    "        total_final = 0\n",
    "    total_final += total\n",
    "print(f\"O valor total das suas compras é: R$ {total_final:.2f}\")"
   ]
  },
  {
   "cell_type": "code",
   "execution_count": null,
   "metadata": {},
   "outputs": [],
   "source": [
    "# Exercício 5.16\n",
    "    # Execute o Programa 5.1(Exemplo 10 - ver em resumo) para os seguintes \n",
    "    # valores: 501, 745, 384, 2, 7 e 1."
   ]
  },
  {
   "cell_type": "code",
   "execution_count": null,
   "metadata": {},
   "outputs": [],
   "source": [
    "# Exercício 5.17\n",
    "    # O que acontece se digitarmos 0(zero) no valor do programa?"
   ]
  },
  {
   "cell_type": "code",
   "execution_count": null,
   "metadata": {},
   "outputs": [],
   "source": [
    "# Exercício 5.18\n",
    "    # Modifique o Programa 5.1 para também trabalhar com notas de R$ 100.\n",
    "valor = int(input(\"Digite o valor a pagar: \"))\n",
    "cedulas = 0\n",
    "atual = 100\n",
    "apagar = valor\n",
    "while True:\n",
    "    if atual <= apagar:\n",
    "        apagar -= atual\n",
    "        cedulas += 1\n",
    "    else:\n",
    "        print(f\"{cedulas} cédula(s) de R${atual}\")\n",
    "        if apagar == 0:\n",
    "            break\n",
    "        if atual == 100:\n",
    "            atual = 50\n",
    "        elif atual == 50:\n",
    "            atual = 20\n",
    "        elif atual == 20:\n",
    "            atual = 10\n",
    "        elif atual == 10:\n",
    "            atual = 5\n",
    "        elif atual == 5:\n",
    "            atual = 1\n",
    "        cedulas = 0"
   ]
  },
  {
   "cell_type": "code",
   "execution_count": null,
   "metadata": {},
   "outputs": [],
   "source": [
    "# Exercício 5.19\n",
    "    # Modifique o Programa 5.1 para aceitar aceitar valores decimais, ou seja,\n",
    "    # também contar moedas de 0,01, 0,02, 0,05, 0,10 e 0,50.\n",
    "valor = float(input(\"Digite o valor a pagar: \"))\n",
    "cedulas = 0\n",
    "atual = 100\n",
    "apagar = valor\n",
    "moedas = 0\n",
    "\n",
    "while True:\n",
    "    if atual <= apagar:\n",
    "        apagar -= atual\n",
    "        cedulas += 1\n",
    "    else:\n",
    "        print(f\"{cedulas} cédula/moeda(s) de R${atual}\")\n",
    "        if apagar == 0:\n",
    "            break\n",
    "        if atual == 100:\n",
    "            atual = 50\n",
    "        elif atual == 50:\n",
    "            atual = 20\n",
    "        elif atual == 20:\n",
    "            atual = 10\n",
    "        elif atual == 10:\n",
    "            atual = 5\n",
    "        elif atual == 5:\n",
    "            atual = 1\n",
    "        elif atual == 1:\n",
    "            atual = 0.50\n",
    "        elif atual == 0.50:\n",
    "            atual = 0.10\n",
    "        elif atual == 0.10:\n",
    "            atual = 0.05\n",
    "        elif atual == 0.05:\n",
    "            atual = 0.02\n",
    "        elif atual == 0.02:\n",
    "            atual = 0.01\n",
    "        cedulas = 0"
   ]
  },
  {
   "cell_type": "code",
   "execution_count": 18,
   "metadata": {},
   "outputs": [
    {
     "name": "stdout",
     "output_type": "stream",
     "text": [
      "Valor inválido, valor mínimo de 1 centavo necessário!\n"
     ]
    }
   ],
   "source": [
    "# Exercício 5.20\n",
    "    # O que acontece se digitarmos 0,001 no programa anterior? Caso ele não \n",
    "    # funcione, altere-o de forma a corrigir o problema.\n",
    "valor = float(input(\"Digite o valor a pagar: \"))\n",
    "cedulas = 0\n",
    "atual = 100\n",
    "apagar = valor\n",
    "moedas = 0\n",
    "\n",
    "while True:\n",
    "    if valor < 0.01:\n",
    "        print(\"Valor inválido, valor mínimo de 1 centavo necessário!\")\n",
    "        break\n",
    "    elif atual <= apagar:\n",
    "        apagar -= atual\n",
    "        cedulas += 1\n",
    "    else:\n",
    "        print(f\"{cedulas} cédula/moeda(s) de R${atual}\")\n",
    "        if apagar == 0:\n",
    "            break\n",
    "        if atual == 100:\n",
    "            atual = 50\n",
    "        elif atual == 50:\n",
    "            atual = 20\n",
    "        elif atual == 20:\n",
    "            atual = 10\n",
    "        elif atual == 10:\n",
    "            atual = 5\n",
    "        elif atual == 5:\n",
    "            atual = 1\n",
    "        elif atual == 1:\n",
    "            atual = 0.50\n",
    "        elif atual == 0.50:\n",
    "            atual = 0.10\n",
    "        elif atual == 0.10:\n",
    "            atual = 0.05\n",
    "        elif atual == 0.05:\n",
    "            atual = 0.02\n",
    "        elif atual == 0.02:\n",
    "            atual = 0.01\n",
    "        cedulas = 0"
   ]
  },
  {
   "cell_type": "code",
   "execution_count": null,
   "metadata": {},
   "outputs": [],
   "source": [
    "# Exercício 5.21\n",
    "    # Reescreva o Programa 5.1 de forma a continuar executando até que o valor \n",
    "    # digitado seja 0. Utilize repetições aninhadas.\n"
   ]
  },
  {
   "cell_type": "code",
   "execution_count": null,
   "metadata": {},
   "outputs": [],
   "source": [
    "# Exercício 5.22\n",
    "    # Escreva um program que exiba uma lista de opções(menu): adição, subtração,\n",
    "    # divisão, multiplicação e sair. Imprima a tabuada de operação escolhida. \n",
    "    # Repita até que a opção saída seja escolhida.\n"
   ]
  },
  {
   "cell_type": "code",
   "execution_count": null,
   "metadata": {},
   "outputs": [],
   "source": [
    "# Exercício 5.23\n",
    "    # Escreva um programa que leia um número e verifique se é ou não um número \n",
    "    # primo. Para fazer essa verificação, calcule o resto da divisão do número \n",
    "    # por 2 e depois por todos os números ímpares até o número lido. Se o resto \n",
    "    # de uma dessas divisões for igual a zero, o número não é primo. Observe que\n",
    "    # Observe que 0 e 1 não são primos e que 2 é o único número primo que é par.\n"
   ]
  },
  {
   "cell_type": "code",
   "execution_count": null,
   "metadata": {},
   "outputs": [],
   "source": [
    "# Exercício 5.24\n",
    "    # Modifique o programa anterior de forma a ler um número n. Imprima os n \n",
    "    # primeiros números primos.\n"
   ]
  },
  {
   "cell_type": "code",
   "execution_count": null,
   "metadata": {},
   "outputs": [],
   "source": [
    "# Exercício 5.25\n",
    "    # Escreva um programa que calcule a raiz quadrada de um número. Utilize o \n",
    "    # método de Newton para obter um resultado aproximado. Sendo n o número a \n",
    "    # obter a raiz quadrada, considere b=2. Calcule p usando a fórmula \n",
    "    # p = (b+(n/b))/2. Agora, calcule o quadrado de p. A cada passo, faça b=p e\n",
    "    # recalcule p usando a fórmula apresentada. Pare quando a diferença absoluta\n",
    "    # entre n e o quadrado de p for menor que 0,0001.\n"
   ]
  },
  {
   "cell_type": "code",
   "execution_count": null,
   "metadata": {},
   "outputs": [],
   "source": [
    "# Exercício 5.26\n",
    "    # Escreva um programa que calcule o resto da divisão inteira entre dois \n",
    "    # números. Utilize apenas as operações de soma e subtração para calcular o\n",
    "    # resultado.\n"
   ]
  },
  {
   "cell_type": "code",
   "execution_count": null,
   "metadata": {},
   "outputs": [],
   "source": [
    "# Exercício 5.27\n",
    "    # Escreva um programa que verifique se um número é palíndromo. Um número \n",
    "    # é palíndromo se continua o mesmo caso seus dígitos sejam invertidos. \n",
    "    # Exemplo: 454, 10501.\n"
   ]
  }
 ],
 "metadata": {
  "kernelspec": {
   "display_name": "base",
   "language": "python",
   "name": "python3"
  },
  "language_info": {
   "codemirror_mode": {
    "name": "ipython",
    "version": 3
   },
   "file_extension": ".py",
   "mimetype": "text/x-python",
   "name": "python",
   "nbconvert_exporter": "python",
   "pygments_lexer": "ipython3",
   "version": "3.11.7"
  }
 },
 "nbformat": 4,
 "nbformat_minor": 2
}
