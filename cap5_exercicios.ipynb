{
 "cells": [
  {
   "cell_type": "markdown",
   "metadata": {},
   "source": [
    "# Cap 5 - Repetições | Resolução de Exercícios"
   ]
  },
  {
   "cell_type": "code",
   "execution_count": null,
   "metadata": {},
   "outputs": [],
   "source": [
    "# Exercício 5.1\n",
    "    # Modififique o exemplo 1 para exibir os númeors de 1 a 100\n",
    "x = 1\n",
    "while x <= 100:\n",
    "    print(x)\n",
    "    x = x + 1"
   ]
  },
  {
   "cell_type": "code",
   "execution_count": null,
   "metadata": {},
   "outputs": [],
   "source": [
    "# Exercício 5.2\n",
    "    # Modififique o exemplo 1 para exibir os númeors de 50 a 100\n",
    "x = 50\n",
    "while x <= 100:\n",
    "    print(x)\n",
    "    x = x + 1"
   ]
  },
  {
   "cell_type": "code",
   "execution_count": null,
   "metadata": {},
   "outputs": [],
   "source": [
    "# Exercício 5.3\n",
    "    # Faça um programa para escrever a contagem regressiva do lançamento de \n",
    "    # um foguete. O programa deve imprimir 10, 9, 8, ..., 1, 0 e Fogo! na tela.\n",
    "x = 10\n",
    "while x >= 0:\n",
    "    print(x)\n",
    "    x = x - 1\n",
    "print(\"Fogo!\")"
   ]
  },
  {
   "cell_type": "markdown",
   "metadata": {},
   "source": [
    "        Cap 5.1 - Contadores"
   ]
  },
  {
   "cell_type": "code",
   "execution_count": null,
   "metadata": {},
   "outputs": [],
   "source": [
    "# Exercício 5.4\n",
    "    # Modifique o exemplo 4 para imprimir de 1 até o número digitado pelo\n",
    "    # usuário, mas, dessa vez, apenas os números ímpares.\n",
    "fim = int(input(\"Digite o último número a imprimir: \"))\n",
    "x = 1\n",
    "\n",
    "while x <= fim:\n",
    "    print(x)\n",
    "    x = x + 2"
   ]
  },
  {
   "cell_type": "code",
   "execution_count": null,
   "metadata": {},
   "outputs": [],
   "source": [
    "# Exercício 5.5\n",
    "    # Modifique o exercício 5.4 para escrever os 10 primeiros múltiplos de 3.\n",
    "x = 1\n",
    "\n",
    "while x <= 10*3:\n",
    "    if x % 3 == 0:\n",
    "        print(x)\n",
    "    x = x + 1"
   ]
  },
  {
   "cell_type": "code",
   "execution_count": null,
   "metadata": {},
   "outputs": [],
   "source": [
    "# Exercício 5.6\n",
    "    # Altere o exemplo 5 para exibir os resultados no mesmo formato de uma \n",
    "    # tabuada: 2x1=2, 2x2=4, ...\n",
    "n = int(input(\"Tabuada de: \"))\n",
    "x = 1\n",
    "\n",
    "while x <= 10:\n",
    "    print(f\"{n:.0f} x {x:.0f} = {n*x:.0f}\")\n",
    "    x = x + 1"
   ]
  },
  {
   "cell_type": "code",
   "execution_count": null,
   "metadata": {},
   "outputs": [],
   "source": [
    "# Exercício 5.7\n",
    "    # Modifique o exercíco 5.6 de forma que o usuário também digite o início \n",
    "    # e o fim da tabuada, em vez de começar com 1 e 10.\n",
    "\n",
    "n = int(input(\"Tabuada de: \"))\n",
    "i = int(input(\"Digite o início desejado da tabuada: \"))\n",
    "f = int(input(\"Digite o fim desejado da tabuada: \"))\n",
    "x = i\n",
    "if i > f:\n",
    "    print(\"O início é maior que o fim, selecione novamente os valores!\")\n",
    "else:\n",
    "    while x <= f:\n",
    "        print(f\"{n:.0f} x {x:.0f} = {n*x:.0f}\")\n",
    "        x = x + 1"
   ]
  },
  {
   "cell_type": "code",
   "execution_count": null,
   "metadata": {},
   "outputs": [],
   "source": [
    "# Exercício 5.8\n",
    "    # Escreva um programa que leia dois números. Imprima o resultado da \n",
    "    # multiplicação do primeiro pelo segundo. Utilize apenas operadores de soma\n",
    "    # e subtração para calcular o resultado.\n",
    "n1 = int(input(\"Digite o primeiro número: \"))\n",
    "n2 = int(input(\"Digite o segundo número: \"))\n",
    "x = 1\n",
    "a = n1\n",
    "\n",
    "while x < n2:\n",
    "    n1 = n1 + a\n",
    "    x = x + 1\n",
    "\n",
    "print(n1)"
   ]
  },
  {
   "cell_type": "code",
   "execution_count": null,
   "metadata": {},
   "outputs": [],
   "source": [
    "# Exercício 5.9\n",
    "    # Escreva um programa que leia dois números. Imprima a divisão inteira do\n",
    "    #  primeiro pelo segundo, assim como o resto da divisão. Utilize apenas \n",
    "    # operadores de soma e subtração para calcular o resultado.\n",
    "n1 = int(input(\"Digite o primeiro número: \"))\n",
    "n2 = int(input(\"Digite o segundo número: \"))\n",
    "x = 0\n",
    "\n",
    "if n1 < n2:\n",
    "    x = 0\n",
    "    n1 = n1\n",
    "    print(\"Para realizar uma operação melhor, é necessário que o primeiro número seja maior que o segundo!\\nPorém, segue resposta abaixo:\")\n",
    "else:\n",
    "    while n1 >= n2:\n",
    "        n1 = n1 - n2\n",
    "        x = x + 1\n",
    "\n",
    "print(f\"A parte interia da divisão é {x:.0f} e o resto é {n1:.0f}\")"
   ]
  },
  {
   "cell_type": "code",
   "execution_count": null,
   "metadata": {},
   "outputs": [],
   "source": [
    "# Exercício 5.10\n",
    "    # Modifique o exemplo 6 para que aceite respostas com letras maiúsculas ou\n",
    "    # minúsculas em todas as questões.\n",
    "pontos = 0\n",
    "questao = 1\n",
    "\n",
    "while questao <= 3:\n",
    "    resposta = input(f\"Resposta da questão {questao}: \")\n",
    "    if questao == 1 and resposta == \"b\" or resposta == \"B\":\n",
    "        pontos = pontos + 1\n",
    "    if questao == 2 and resposta == \"a\" or resposta == \"A\":\n",
    "        pontos = pontos + 1\n",
    "    if questao == 3 and resposta == \"d\" or resposta == \"D\":\n",
    "        pontos = pontos + 1\n",
    "    questao = questao + 1\n",
    "print(f\"O aluno fez {pontos} ponto(s)\")"
   ]
  },
  {
   "cell_type": "markdown",
   "metadata": {},
   "source": [
    "    Cap 5.2 - Acumuladores"
   ]
  },
  {
   "cell_type": "code",
   "execution_count": null,
   "metadata": {},
   "outputs": [],
   "source": [
    "# Exercício 5.11\n",
    "    # Escreva um programa que pergunte o depósito inicial e a taca de juros de\n",
    "    # uma poupança. Exiba os valores mês a mês para os 24 primeiros meses.\n",
    "    # Escreva o total ganho com juros no período.\n",
    "x = int(input(f\"Digite o valor do depósito inicial: \"))\n",
    "xi = x\n",
    "juros = float(input(f\"Digite a taxa de juros da poupança(em %): \"))\n",
    "j = juros/100\n",
    "n = 1\n",
    "\n",
    "while n <= 24:\n",
    "    x = x + (x*j)\n",
    "    print(f\"O valor na poupança, no mês {n}, é: {x:.2f}\")\n",
    "    n = n + 1\n",
    "print(f\"O valor acumulado de juros é: {x-xi:.2f}\")"
   ]
  },
  {
   "cell_type": "code",
   "execution_count": null,
   "metadata": {},
   "outputs": [],
   "source": [
    "# Exercício 5.12\n",
    "    # Altere o programa anterior de forma a perguntar também o valor depositado\n",
    "    # mensalmente. Esse valor será depositado no início de cada mês, e você deve\n",
    "    # considerá-lo para o cálculo de juros do mês seguinte.\n",
    "x = int(input(f\"Digite o valor do depósito inicial: \"))\n",
    "xi = x\n",
    "juros = float(input(f\"Digite a taxa de juros da poupança(em %): \"))\n",
    "j = juros/100\n",
    "n = 1\n",
    "y = 0\n",
    "while n <= 24:\n",
    "    xi = xi + y\n",
    "    x = (x+y) + ((x+y) * j)\n",
    "    y = int(input(f\"Digite o valor a ser depositado nesse mês({n}) :\"))\n",
    "    print(f\"O valor na poupança, no mês {n}, é: {x:.2f}\")\n",
    "    n = n + 1\n",
    "print(f\"O valor acumulado de juros é: {x-xi:.2f}\")"
   ]
  },
  {
   "cell_type": "code",
   "execution_count": null,
   "metadata": {},
   "outputs": [],
   "source": [
    "# Exercício 5.13\n",
    "    # Escreva um programa que pergunte o valor inicial de uma dívida e o juro\n",
    "    # mensal. Pergunte também o valor mensal que será pago. Imprima o número de\n",
    "    # meses para que a dívida seja paga, o total pago e o total de juros pago.\n"
   ]
  }
 ],
 "metadata": {
  "kernelspec": {
   "display_name": "base",
   "language": "python",
   "name": "python3"
  },
  "language_info": {
   "codemirror_mode": {
    "name": "ipython",
    "version": 3
   },
   "file_extension": ".py",
   "mimetype": "text/x-python",
   "name": "python",
   "nbconvert_exporter": "python",
   "pygments_lexer": "ipython3",
   "version": "3.11.7"
  }
 },
 "nbformat": 4,
 "nbformat_minor": 2
}
