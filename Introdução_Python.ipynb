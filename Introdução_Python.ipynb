{
 "cells": [
  {
   "cell_type": "markdown",
   "metadata": {},
   "source": [
    "    Livro: Introdução à Programação com Python\n",
    "    Algoritmos e lógica de programação para iniciantes."
   ]
  },
  {
   "cell_type": "markdown",
   "metadata": {},
   "source": [
    "O intuito desse git será para estudar e praticar os ensinamentos do livro."
   ]
  },
  {
   "cell_type": "markdown",
   "metadata": {},
   "source": [
    "O processo será feito de forma simples, cada tópico do livro será resumido,\n",
    "depois citaremos os exemplos empregados para explicação e, no final,\n",
    "separaremos notebook's para a resolução dos exercícios de cada capítulo."
   ]
  },
  {
   "cell_type": "markdown",
   "metadata": {},
   "source": [
    "Não se trata de encontrar a melhor solução com todas as ferramentas do python.\n",
    "Iremos buscar a melhor solução com as ferramentas disponibilizadas naquele capítulo\n",
    "em questão ou em capítulos anteriores. \n",
    "\n",
    "Ferramentas de capítulos posteriores, ao que está sendo estudado, não serão\n",
    "permitidas para a resolução dos exercícios."
   ]
  }
 ],
 "metadata": {
  "language_info": {
   "name": "python"
  }
 },
 "nbformat": 4,
 "nbformat_minor": 2
}
